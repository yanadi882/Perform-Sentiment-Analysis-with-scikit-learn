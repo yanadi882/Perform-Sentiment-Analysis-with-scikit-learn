{
 "cells": [
  {
   "cell_type": "markdown",
   "metadata": {},
   "source": [
    "<a href='http://www.scienceacademy.ca'> <img style=\"float: left;height:70px\" src=\"Log_SA.jpeg\"></a>"
   ]
  },
  {
   "cell_type": "markdown",
   "metadata": {},
   "source": [
    "If you have not installed the required package/library so far:\n",
    "<br>Anaconda users: **conda install nltk=3.2.3**<br>\n",
    "Others: **pip install nltk=3.2.3**<br>\n",
    "*Please use the suggested version to avoid any related issues, once you finish the course, you can always try other versions, they are not very different* <br>\n",
    "**Thanks**\n",
    "\n",
    "# Natural Language Processing (NLP) with Python\n",
    "## (additional topic in the course)\n",
    "\n",
    "\n",
    "Hi Guys, <br>\n",
    "\n",
    "Welcome to the Natural Language Processing with Python. Mystery of Natural Language still needs to be solved. Natural Language Processing (NLP) is challenging and one of the most demanding skills in the field of Data Science. Challenges in NPL frequently involve speech recognition, natural-language understanding, and natural-language generation.<br> \n",
    "\n",
    "We generate data in several ways, speaking, writing, messaging and so many other ways. Majority of the data, we generate, exists in the text format, a highly unstructured data in nature. According to the studies, more tha [80% of the available data is in un-structured form](https://support.sas.com/resources/papers/proceedings14/1288-2014.pdf).<br>\n",
    "\n",
    "&#9758; *<font style=\"font-size:14px;color:green;\">Few very common examples of generating data in our daily life includes: Posts on social media (e.g. FaceBook, Tweeter etc), chat conversations among users, news, blogs, research or any other type of articles, books, product or services reviews, patient records, health-care data and much more. Another recent AI ways include chatbots and voice driven bots. So much unstructured data!!!</font>*\n",
    "\n",
    "\n",
    "Without processing (reading and understanding) text data, we can not present the conclusions or take actions accordingly. Either we have to manually analyze this huge amount of data (which is growing exponentially with time) or we need some kind of automated system to do this data analysis for us. \n",
    "\n",
    "In order to produce actionable insights from text data, it is very important to get familiar with the techniques and principles of Natural Language Processing (NLP). Today, NPL is a big topic and could easily fit into several course in your college life. However, we will try to learn the as much as possible using practical approach with real dataset. <br>\n",
    "\n",
    "\n",
    "In this section, we are going to discuss and overview the basics of Natural Language Processing. This consists of combining machine learning techniques with text, and using maths and statistics to get that text in a format that a machine learning algorithms can understand!<br>\n",
    "\n",
    "Let's work with [SMS Spam Collection Data Set](https://archive.ics.uci.edu/ml/datasets/SMS+Spam+Collection). The dataset is a public set of SMS labeled messages that have been collected for mobile phone spam research. The dataset is a part of [UCI repository](https://archive.ics.uci.edu/ml/datasets/SMS+Spam+Collection) and was donated for public use in 2012. This rich dataset contain over 5000 instances and is a great dataset to start with NLP. You can either download the dataset UCI website or use the one which is provided in the course. If you decided to download from the UCI website directly, you will get a folder contain dataset along with readme file, which contain the description on the dataset.<br>   \n",
    "\n",
    "**Required libraries:**<br> \n",
    "In order to work with NLP, we need to have Python's [NLTK (Natural Language Toolkit)](https://www.nltk.org) installed. Instructions are provided in the lecture notes and I hope you have already installed this library. We also need to download the corpus for stopwords to work with this project. <br>\n",
    "\n",
    "[Official documentation for nltk is always a great resource!](http://www.nltk.org)<br>\n",
    "[Working With Text Data--Tutorial on scikit-learn](http://scikit-learn.org/stable/tutorial/text_analytics/working_with_text_data.html)\n",
    "\n",
    "Please note, we will learn several useful concepts and their use in NLP along the way. <br>\n",
    "Let's import nltk to start with!"
   ]
  },
  {
   "cell_type": "code",
   "execution_count": 1,
   "metadata": {
    "collapsed": true
   },
   "outputs": [],
   "source": [
    "import nltk"
   ]
  },
  {
   "cell_type": "markdown",
   "metadata": {},
   "source": [
    "nltk comes with a collection of packages. Let's download the `stopwords` at the moment. In order to do this, we can use [`download_shell()`](http://www.nltk.org/api/nltk.html?highlight=download_shell#nltk.downloader.download_shell) to open an interactive shell. This allows us to explore the available packages and either we can download all or the one we need!  <br>\n",
    "You will see these options:<br>\n",
    "`d) Download   l) List    u) Update   c) Config   h) Help   q) Quit` <br>\n",
    "to **see the list** of packages, enter **l**. To **download**, enter **d** and then enter the package name, `stopwords` in this case.<br> \n",
    "I have already downloaded the package, it will say `Package stopwords is already up-to-date!`<br>\n",
    "Let's see how it works!"
   ]
  },
  {
   "cell_type": "code",
   "execution_count": 2,
   "metadata": {
    "collapsed": true,
    "scrolled": false
   },
   "outputs": [],
   "source": [
    "#nltk.download_shell()"
   ]
  },
  {
   "cell_type": "markdown",
   "metadata": {},
   "source": [
    "Let's see how the messages look like and read the dataset in `sms` using list comprehension!<br>\n",
    "\n",
    "&#9758; *<font style=\"font-size:14px;color:green;\">Although, we can use use `line.rstrip()` to removes whitespace, newline characters, tab characters, and characters (\\n \\t \\r respectively) from the tail of a line. <b>We don't need it here because we are going to use the power of pandas</b> to read such files rather than parsing them manually</font>*  "
   ]
  },
  {
   "cell_type": "code",
   "execution_count": 3,
   "metadata": {
    "collapsed": true
   },
   "outputs": [],
   "source": [
    "sms = [line for line in open('smsspamcollection/SMSSpamCollection')]"
   ]
  },
  {
   "cell_type": "markdown",
   "metadata": {},
   "source": [
    "Let's see how many messages we have in the list 'sms'. Let's re-confirm the type of sms as well"
   ]
  },
  {
   "cell_type": "code",
   "execution_count": 4,
   "metadata": {},
   "outputs": [
    {
     "data": {
      "text/plain": [
       "(5574, list)"
      ]
     },
     "execution_count": 4,
     "metadata": {},
     "output_type": "execute_result"
    }
   ],
   "source": [
    "len(sms), type(sms)"
   ]
  },
  {
   "cell_type": "markdown",
   "metadata": {},
   "source": [
    "We have 5574 messages in the corpus, we can check any message e.g. for 2 sms[1]. "
   ]
  },
  {
   "cell_type": "code",
   "execution_count": 5,
   "metadata": {},
   "outputs": [
    {
     "data": {
      "text/plain": [
       "'ham\\tOk lar... Joking wif u oni...\\n'"
      ]
     },
     "execution_count": 5,
     "metadata": {},
     "output_type": "execute_result"
    }
   ],
   "source": [
    "#Let's see how the message looks like\n",
    "sms[1]"
   ]
  },
  {
   "cell_type": "markdown",
   "metadata": {},
   "source": [
    "What we see, the file is tab separated `(\\t)`. <br>\n",
    "* The first column will be the label/target \"ham/spam\".\n",
    "* The second column will be the actual message. \n",
    "\n",
    "Let's use the power of pandas to read the text file in a dataframe with ham/spam as target and message as 'sms'.<br>\n",
    "We know the file is tab separated, let pass `sep = '\\t'`"
   ]
  },
  {
   "cell_type": "code",
   "execution_count": 6,
   "metadata": {
    "collapsed": true
   },
   "outputs": [],
   "source": [
    "#import pandas first\n",
    "import pandas as pd"
   ]
  },
  {
   "cell_type": "code",
   "execution_count": 7,
   "metadata": {},
   "outputs": [
    {
     "data": {
      "text/html": [
       "<div>\n",
       "<style>\n",
       "    .dataframe thead tr:only-child th {\n",
       "        text-align: right;\n",
       "    }\n",
       "\n",
       "    .dataframe thead th {\n",
       "        text-align: left;\n",
       "    }\n",
       "\n",
       "    .dataframe tbody tr th {\n",
       "        vertical-align: top;\n",
       "    }\n",
       "</style>\n",
       "<table border=\"1\" class=\"dataframe\">\n",
       "  <thead>\n",
       "    <tr style=\"text-align: right;\">\n",
       "      <th></th>\n",
       "      <th>target</th>\n",
       "      <th>sms</th>\n",
       "    </tr>\n",
       "  </thead>\n",
       "  <tbody>\n",
       "    <tr>\n",
       "      <th>0</th>\n",
       "      <td>ham</td>\n",
       "      <td>Go until jurong point, crazy.. Available only ...</td>\n",
       "    </tr>\n",
       "    <tr>\n",
       "      <th>1</th>\n",
       "      <td>ham</td>\n",
       "      <td>Ok lar... Joking wif u oni...</td>\n",
       "    </tr>\n",
       "    <tr>\n",
       "      <th>2</th>\n",
       "      <td>spam</td>\n",
       "      <td>Free entry in 2 a wkly comp to win FA Cup fina...</td>\n",
       "    </tr>\n",
       "    <tr>\n",
       "      <th>3</th>\n",
       "      <td>ham</td>\n",
       "      <td>U dun say so early hor... U c already then say...</td>\n",
       "    </tr>\n",
       "    <tr>\n",
       "      <th>4</th>\n",
       "      <td>ham</td>\n",
       "      <td>Nah I don't think he goes to usf, he lives aro...</td>\n",
       "    </tr>\n",
       "  </tbody>\n",
       "</table>\n",
       "</div>"
      ],
      "text/plain": [
       "  target                                                sms\n",
       "0    ham  Go until jurong point, crazy.. Available only ...\n",
       "1    ham                      Ok lar... Joking wif u oni...\n",
       "2   spam  Free entry in 2 a wkly comp to win FA Cup fina...\n",
       "3    ham  U dun say so early hor... U c already then say...\n",
       "4    ham  Nah I don't think he goes to usf, he lives aro..."
      ]
     },
     "execution_count": 7,
     "metadata": {},
     "output_type": "execute_result"
    }
   ],
   "source": [
    "#Reading file with sep = '\\t'. We can output the head of our dataframe\n",
    "df = pd.read_csv('smsspamcollection/SMSSpamCollection', sep='\\t',\n",
    "                names=['target', 'sms'])\n",
    "df.head()"
   ]
  },
  {
   "cell_type": "markdown",
   "metadata": {},
   "source": [
    "Lets use `info()` and `describe()` methods on our dataframe."
   ]
  },
  {
   "cell_type": "code",
   "execution_count": 8,
   "metadata": {},
   "outputs": [
    {
     "name": "stdout",
     "output_type": "stream",
     "text": [
      "<class 'pandas.core.frame.DataFrame'>\n",
      "RangeIndex: 5572 entries, 0 to 5571\n",
      "Data columns (total 2 columns):\n",
      "target    5572 non-null object\n",
      "sms       5572 non-null object\n",
      "dtypes: object(2)\n",
      "memory usage: 87.1+ KB\n"
     ]
    }
   ],
   "source": [
    "df.info()"
   ]
  },
  {
   "cell_type": "code",
   "execution_count": 9,
   "metadata": {},
   "outputs": [
    {
     "data": {
      "text/html": [
       "<div>\n",
       "<style>\n",
       "    .dataframe thead tr:only-child th {\n",
       "        text-align: right;\n",
       "    }\n",
       "\n",
       "    .dataframe thead th {\n",
       "        text-align: left;\n",
       "    }\n",
       "\n",
       "    .dataframe tbody tr th {\n",
       "        vertical-align: top;\n",
       "    }\n",
       "</style>\n",
       "<table border=\"1\" class=\"dataframe\">\n",
       "  <thead>\n",
       "    <tr style=\"text-align: right;\">\n",
       "      <th></th>\n",
       "      <th>target</th>\n",
       "      <th>sms</th>\n",
       "    </tr>\n",
       "  </thead>\n",
       "  <tbody>\n",
       "    <tr>\n",
       "      <th>count</th>\n",
       "      <td>5572</td>\n",
       "      <td>5572</td>\n",
       "    </tr>\n",
       "    <tr>\n",
       "      <th>unique</th>\n",
       "      <td>2</td>\n",
       "      <td>5169</td>\n",
       "    </tr>\n",
       "    <tr>\n",
       "      <th>top</th>\n",
       "      <td>ham</td>\n",
       "      <td>Sorry, I'll call later</td>\n",
       "    </tr>\n",
       "    <tr>\n",
       "      <th>freq</th>\n",
       "      <td>4825</td>\n",
       "      <td>30</td>\n",
       "    </tr>\n",
       "  </tbody>\n",
       "</table>\n",
       "</div>"
      ],
      "text/plain": [
       "       target                     sms\n",
       "count    5572                    5572\n",
       "unique      2                    5169\n",
       "top       ham  Sorry, I'll call later\n",
       "freq     4825                      30"
      ]
     },
     "execution_count": 9,
     "metadata": {},
     "output_type": "execute_result"
    }
   ],
   "source": [
    "df.describe()"
   ]
  },
  {
   "cell_type": "markdown",
   "metadata": {},
   "source": [
    "So, we have 2 unique labels. There are less unique message as compared to the actual count, this means there are repeated message in the dataset. This makes sense as some repeated messages could be the standard and very common messages e.g. 'Sorry, I'll call later', 'yes', 'no' etc. <br>\n",
    "\n",
    "**Let's use `describe()` on the grouped message as ham or spam. <br>\n",
    "Recall, `groupby()` method. **"
   ]
  },
  {
   "cell_type": "code",
   "execution_count": 10,
   "metadata": {},
   "outputs": [
    {
     "data": {
      "text/html": [
       "<div>\n",
       "<style>\n",
       "    .dataframe thead tr:only-child th {\n",
       "        text-align: right;\n",
       "    }\n",
       "\n",
       "    .dataframe thead th {\n",
       "        text-align: left;\n",
       "    }\n",
       "\n",
       "    .dataframe tbody tr th {\n",
       "        vertical-align: top;\n",
       "    }\n",
       "</style>\n",
       "<table border=\"1\" class=\"dataframe\">\n",
       "  <thead>\n",
       "    <tr>\n",
       "      <th></th>\n",
       "      <th colspan=\"4\" halign=\"left\">sms</th>\n",
       "    </tr>\n",
       "    <tr>\n",
       "      <th></th>\n",
       "      <th>count</th>\n",
       "      <th>unique</th>\n",
       "      <th>top</th>\n",
       "      <th>freq</th>\n",
       "    </tr>\n",
       "    <tr>\n",
       "      <th>target</th>\n",
       "      <th></th>\n",
       "      <th></th>\n",
       "      <th></th>\n",
       "      <th></th>\n",
       "    </tr>\n",
       "  </thead>\n",
       "  <tbody>\n",
       "    <tr>\n",
       "      <th>ham</th>\n",
       "      <td>4825</td>\n",
       "      <td>4516</td>\n",
       "      <td>Sorry, I'll call later</td>\n",
       "      <td>30</td>\n",
       "    </tr>\n",
       "    <tr>\n",
       "      <th>spam</th>\n",
       "      <td>747</td>\n",
       "      <td>653</td>\n",
       "      <td>Please call our customer service representativ...</td>\n",
       "      <td>4</td>\n",
       "    </tr>\n",
       "  </tbody>\n",
       "</table>\n",
       "</div>"
      ],
      "text/plain": [
       "         sms                                                               \n",
       "       count unique                                                top freq\n",
       "target                                                                     \n",
       "ham     4825   4516                             Sorry, I'll call later   30\n",
       "spam     747    653  Please call our customer service representativ...    4"
      ]
     },
     "execution_count": 10,
     "metadata": {},
     "output_type": "execute_result"
    }
   ],
   "source": [
    "df.groupby('target').describe()"
   ]
  },
  {
   "cell_type": "markdown",
   "metadata": {},
   "source": [
    "This gives a little more insight of the dataset. We see, most of the messages are ham, the common one is 'Sorry, I'll call later' whereas the most common spam message is 'Please call our customer service....'.<br> \n",
    "\n",
    "\n",
    "## Feature Engineering\n",
    "In NLP, feature engineering has significant importance, which is usually a large part of processing. Feature engineering involves deep understanding of the field in which you are working, called domain knowledge.  \n",
    "By definition, feature engineering is the process of using domain knowledge of the data to create features that make machine learning algorithms work. This is fundamental to the application of machine learning, and is both difficult and expensive.<br>\n",
    "\n",
    "&#9758; <font style=\"font-size:13px;color:green;\">*Feature engineering is another big area of expertise, as a data scientist, you learn to extract features based on your domain knowledge. If you are interested and want to learn more, [Feature Engineering for Machine Learning: Principles and Techniques for Data Scientists](https://www.amazon.com/Feature-Engineering-Machine-Learning-Principles-ebook/dp/B07BNX4MWC) is a good book to read. Wikipedia's article on [Feature Engineering](https://en.wikipedia.org/wiki/Feature_engineering) also provide a good summary on this topic.*</font>\n",
    "\n",
    "One of the obvious thing is the length of the message in this dataset. We can create this feature and add a new column into our dataframe with the length of each message. We can then see if there is any trend or correlation between length of the message and its class \"ham/spam\".<br>\n",
    "\n",
    "Let's create a column length!<br>\n",
    "*Recall `.apply()`method! We can use this along with `len()`*"
   ]
  },
  {
   "cell_type": "code",
   "execution_count": 11,
   "metadata": {},
   "outputs": [
    {
     "data": {
      "text/html": [
       "<div>\n",
       "<style>\n",
       "    .dataframe thead tr:only-child th {\n",
       "        text-align: right;\n",
       "    }\n",
       "\n",
       "    .dataframe thead th {\n",
       "        text-align: left;\n",
       "    }\n",
       "\n",
       "    .dataframe tbody tr th {\n",
       "        vertical-align: top;\n",
       "    }\n",
       "</style>\n",
       "<table border=\"1\" class=\"dataframe\">\n",
       "  <thead>\n",
       "    <tr style=\"text-align: right;\">\n",
       "      <th></th>\n",
       "      <th>target</th>\n",
       "      <th>sms</th>\n",
       "      <th>length</th>\n",
       "    </tr>\n",
       "  </thead>\n",
       "  <tbody>\n",
       "    <tr>\n",
       "      <th>0</th>\n",
       "      <td>ham</td>\n",
       "      <td>Go until jurong point, crazy.. Available only ...</td>\n",
       "      <td>111</td>\n",
       "    </tr>\n",
       "    <tr>\n",
       "      <th>1</th>\n",
       "      <td>ham</td>\n",
       "      <td>Ok lar... Joking wif u oni...</td>\n",
       "      <td>29</td>\n",
       "    </tr>\n",
       "    <tr>\n",
       "      <th>2</th>\n",
       "      <td>spam</td>\n",
       "      <td>Free entry in 2 a wkly comp to win FA Cup fina...</td>\n",
       "      <td>155</td>\n",
       "    </tr>\n",
       "    <tr>\n",
       "      <th>3</th>\n",
       "      <td>ham</td>\n",
       "      <td>U dun say so early hor... U c already then say...</td>\n",
       "      <td>49</td>\n",
       "    </tr>\n",
       "    <tr>\n",
       "      <th>4</th>\n",
       "      <td>ham</td>\n",
       "      <td>Nah I don't think he goes to usf, he lives aro...</td>\n",
       "      <td>61</td>\n",
       "    </tr>\n",
       "  </tbody>\n",
       "</table>\n",
       "</div>"
      ],
      "text/plain": [
       "  target                                                sms  length\n",
       "0    ham  Go until jurong point, crazy.. Available only ...     111\n",
       "1    ham                      Ok lar... Joking wif u oni...      29\n",
       "2   spam  Free entry in 2 a wkly comp to win FA Cup fina...     155\n",
       "3    ham  U dun say so early hor... U c already then say...      49\n",
       "4    ham  Nah I don't think he goes to usf, he lives aro...      61"
      ]
     },
     "execution_count": 11,
     "metadata": {},
     "output_type": "execute_result"
    }
   ],
   "source": [
    "df['length'] = df['sms'].apply(len)\n",
    "df.head()"
   ]
  },
  {
   "cell_type": "markdown",
   "metadata": {},
   "source": [
    "## Data Visualization \n",
    "Let's do some imports and visualize the data. We may get some more information from the data visualization!"
   ]
  },
  {
   "cell_type": "code",
   "execution_count": 12,
   "metadata": {
    "collapsed": true
   },
   "outputs": [],
   "source": [
    "import matplotlib.pyplot as plt\n",
    "import seaborn as sns\n",
    "%matplotlib inline"
   ]
  },
  {
   "cell_type": "code",
   "execution_count": 13,
   "metadata": {
    "collapsed": true
   },
   "outputs": [],
   "source": [
    "# Let's use pandas built-in data visualization capabilities here\n",
    "# df['length'].plot(bins=70, kind='hist') "
   ]
  },
  {
   "cell_type": "code",
   "execution_count": 14,
   "metadata": {},
   "outputs": [
    {
     "data": {
      "text/plain": [
       "<matplotlib.axes._subplots.AxesSubplot at 0x112641898>"
      ]
     },
     "execution_count": 14,
     "metadata": {},
     "output_type": "execute_result"
    },
    {
     "data": {
      "image/png": "[encoded data removed]",
      "text/plain": [
       "<matplotlib.figure.Figure at 0x1122edda0>"
      ]
     },
     "metadata": {},
     "output_type": "display_data"
    }
   ],
   "source": [
    "# Let's use sns distplot here \n",
    "sns.distplot(df['length'])"
   ]
  },
  {
   "cell_type": "markdown",
   "metadata": {},
   "source": [
    "We can clearly see a bimodal distribution in the length column. Looks like, the choice of the length of the message during feature engineering was a good option.<br>\n",
    "Let's explore more, we can plot ham and spam separately! -- we can use pandas data visualization capabilities as well!"
   ]
  },
  {
   "cell_type": "code",
   "execution_count": 15,
   "metadata": {},
   "outputs": [
    {
     "data": {
      "image/png": "[encoded data removed]",
      "text/plain": [
       "<matplotlib.figure.Figure at 0x1115a6978>"
      ]
     },
     "metadata": {},
     "output_type": "display_data"
    }
   ],
   "source": [
    "df.hist(column='length', by='target', bins=70,figsize=(10,3));"
   ]
  },
  {
   "cell_type": "markdown",
   "metadata": {},
   "source": [
    "From the plots above, we see that there is a general trend in ham and spam messages. Generally, ham messages are under 200 characters! <br>\n",
    "Looks like, our newly created feature worked very good and suggest that we can separate the ham vs spam messages based on this feature!\n",
    "\n",
    "## Text Preprocessing \n",
    "\n",
    "This is a classification problem in which we are trying to predict two classes, ham or spam. In order to train our Machine learning model, we need to convert all the text strings into some kind of numerical data. We have learned the concepts behind such conversion in the lecture. Its time to apply that knowledge. <br>\n",
    "\n",
    "Recall, the bag-of-words (BoW) approach, where each word in the text is represented by a number. <br>\n",
    "Let's convert the raw strings of our messages -- sequence of characters, into vectors -- sequences of numbers.<br>\n",
    "* First thing to do is, to get rid of punctuations in the messages. *Recall basic String methods in Python - early lectures*\n",
    "* Second, convert the messages into their individual words and return a list.\n",
    "* Third, we will remove very common words ('the', 'a', 'is'... etc) from the list of words of the messages. These are stopwords! --- *good to know, most of the search engines are programmed to ignore stopwords!*\n",
    "\n",
    "To remove punctuations, we can use Python's built-in string library `string.punctuation` to get a quick list of all the possible punctuation .<br>\n",
    "\n",
    "Let's see how this all will work on a **sample string first!**"
   ]
  },
  {
   "cell_type": "code",
   "execution_count": 16,
   "metadata": {
    "collapsed": true
   },
   "outputs": [],
   "source": [
    "# do the import\n",
    "import string\n",
    "\n",
    "# create a sample with punctuations\n",
    "s = 'is this a sample message! if yes, remove punctuations.'"
   ]
  },
  {
   "cell_type": "markdown",
   "metadata": {},
   "source": [
    "Let's check what string.punctuation is!"
   ]
  },
  {
   "cell_type": "code",
   "execution_count": 17,
   "metadata": {},
   "outputs": [
    {
     "data": {
      "text/plain": [
       "'!\"#$%&\\'()*+,-./:;<=>?@[\\\\]^_`{|}~'"
      ]
     },
     "execution_count": 17,
     "metadata": {},
     "output_type": "execute_result"
    }
   ],
   "source": [
    "string.punctuation"
   ]
  },
  {
   "cell_type": "markdown",
   "metadata": {},
   "source": [
    "#### Removing punctuations.\n",
    "Check characters if there are punctuations in 's' and get a list "
   ]
  },
  {
   "cell_type": "code",
   "execution_count": 18,
   "metadata": {},
   "outputs": [
    {
     "data": {
      "text/plain": [
       "['i', 's', ' ', 't', 'h', 'i', 's', ' ', 'a', ' ']"
      ]
     },
     "execution_count": 18,
     "metadata": {},
     "output_type": "execute_result"
    }
   ],
   "source": [
    "nopunc = [char for char in s if char not in string.punctuation]\n",
    "nopunc[0:10] # you can print complete list, its long!"
   ]
  },
  {
   "cell_type": "markdown",
   "metadata": {},
   "source": [
    "Now. let's join the characters again at '' (white space) to form the string."
   ]
  },
  {
   "cell_type": "code",
   "execution_count": 19,
   "metadata": {},
   "outputs": [
    {
     "data": {
      "text/plain": [
       "'is this a sample message if yes remove punctuations'"
      ]
     },
     "execution_count": 19,
     "metadata": {},
     "output_type": "execute_result"
    }
   ],
   "source": [
    "nopunc = ''.join(nopunc)\n",
    "nopunc"
   ]
  },
  {
   "cell_type": "markdown",
   "metadata": {},
   "source": [
    "#### Removing stop-words.\n",
    "Now let's see how to remove **`stopwords`**. Remember, we installed `stopwords` package in the beginning. We need to import that package and apply on `nopunc` to remove the **English stopwords**."
   ]
  },
  {
   "cell_type": "code",
   "execution_count": 20,
   "metadata": {},
   "outputs": [
    {
     "data": {
      "text/plain": [
       "['i', 'me', 'my', 'myself', 'we']"
      ]
     },
     "execution_count": 20,
     "metadata": {},
     "output_type": "execute_result"
    }
   ],
   "source": [
    "# do the import for stopwords\n",
    "from nltk.corpus import stopwords\n",
    "# Just to see first 5 English stopwords\n",
    "stopwords.words('english')[0:5] "
   ]
  },
  {
   "cell_type": "markdown",
   "metadata": {},
   "source": [
    "We need to split `nopunc` into its words, deal with the lower and upper case and get a list of those which are not in `stopwords.words`.<br>\n",
    "We can use list comprehension here. *Recall the early lectures in Python Essentials!*"
   ]
  },
  {
   "cell_type": "code",
   "execution_count": 21,
   "metadata": {},
   "outputs": [
    {
     "name": "stdout",
     "output_type": "stream",
     "text": [
      "Input was:  ['is', 'this', 'a', 'sample', 'message', 'if', 'yes', 'remove', 'punctuations']\n",
      "Output is:  ['sample', 'message', 'yes', 'remove', 'punctuations']\n"
     ]
    }
   ],
   "source": [
    "# removing all stopwords\n",
    "clean_s = [word for word in nopunc.split() \n",
    "              if word.lower() not in stopwords.words('english')]\n",
    "\n",
    "#Let's compare the input anf output \n",
    "print('Input was: ',nopunc.split())\n",
    "print('Output is: ',clean_s)"
   ]
  },
  {
   "cell_type": "markdown",
   "metadata": {},
   "source": [
    "We have worked with the sample sentence, **Let's apply all the above steps to our dataframe of messages, the simple way is to create a function with all the steps and use `apply()` to do the processing**<br>\n",
    "We will write a function `\"process_text(raw_text)` and pass in the raw text. The function will take the string of raw text and perform the following:\n",
    "* Remove all punctuation\n",
    "* Remove all stopwords\n",
    "* Returns a list of the cleaned text\n",
    "\n",
    "Let's write a function to do the above steps, we will use this function soon.  "
   ]
  },
  {
   "cell_type": "code",
   "execution_count": 22,
   "metadata": {
    "collapsed": true
   },
   "outputs": [],
   "source": [
    "def process_text(raw_text):\n",
    "    # Check for the punctuations \n",
    "    nopunc = [char for char in raw_text \n",
    "              if char not in string.punctuation]\n",
    "\n",
    "    # Join the characters \n",
    "    nopunc = ''.join(nopunc)\n",
    "    \n",
    "    # Remove stopwords (if any)\n",
    "    return [word for word in nopunc.split() \n",
    "            if word.lower() not in stopwords.words('english')]"
   ]
  },
  {
   "cell_type": "markdown",
   "metadata": {},
   "source": [
    "### Tokenization\n",
    "For a given character sequence and a defined document unit, **tokenization** is the task of chopping it up into pieces, called tokens , perhaps at the same time throwing away certain characters, such as punctuation. <br>\n",
    "For example:<br>\n",
    "\n",
    "* **Input:** Friends, Romans, Countrymen, lend me your ears; \n",
    "* **Output:** Friends Romans Countrymen lend me your ears\n",
    "\n",
    "These tokens are often loosely referred to as terms or words, but it is sometimes important to make a type/token distinction.<br>\n",
    "\n",
    "Let's do the Tokenization Now! We can grab few messages from the dataframe and see how the function `process_text(raw_text)` works!"
   ]
  },
  {
   "cell_type": "code",
   "execution_count": 23,
   "metadata": {},
   "outputs": [
    {
     "data": {
      "text/plain": [
       "0    Go until jurong point, crazy.. Available only ...\n",
       "1                        Ok lar... Joking wif u oni...\n",
       "Name: sms, dtype: object"
      ]
     },
     "execution_count": 23,
     "metadata": {},
     "output_type": "execute_result"
    }
   ],
   "source": [
    "#Before tokenization\n",
    "df['sms'].head(2)"
   ]
  },
  {
   "cell_type": "code",
   "execution_count": 24,
   "metadata": {},
   "outputs": [
    {
     "data": {
      "text/plain": [
       "0    [Go, jurong, point, crazy, Available, bugis, n...\n",
       "1                       [Ok, lar, Joking, wif, u, oni]\n",
       "Name: sms, dtype: object"
      ]
     },
     "execution_count": 24,
     "metadata": {},
     "output_type": "execute_result"
    }
   ],
   "source": [
    "#After tokenization\n",
    "df['sms'].head(2).apply(process_text)"
   ]
  },
  {
   "cell_type": "markdown",
   "metadata": {},
   "source": [
    "Notice, the stopwords are removed and we got the list of tokens that are actually the words we want.<br>\n",
    "**Before we move on, let's pause and learn another useful concepts in Text Normalization.**<br>\n",
    "\n",
    "There are lots of ways to normalize the text data. In this example, we have used a simple text normalization in our text pre-processing. NLTK library has a good number of built-in tools {*[Check the documentation on nltk official website](http://www.nltk.org/book/ch03.html)*} and very helpful documentation on other method of text normalization. <br>\n",
    "The key concepts in NLP, including **tokenization and stemming**.<br> \n",
    "*<b>Stemming</b> involves the extraction of stem words in the text normalization, for example, if we have similar words in our text, such as, `[play, playing, played]`, the only useful word is play, stemming tries to return only `[play]`.* <br>\n",
    "\n",
    "In our dataset, stemming may not be useful because of the presence of several shorthand words `[U, dun, 2, u, c, Nah, .....]` which is common in the text messages. Stemming may not be very helpful in our particular dataset, however, it works greatly in several cases such as news data, books, research articles etc. <br>\n",
    "\n",
    "&#9758; *Another important thing is dealing with currency symbols and other type of regular expressions. Please consult the documentation of [Processing Raw Text](http://www.nltk.org/book/ch03.html) to learn more about this.*<br><br><br>\n",
    "Let's apply `process_text()` to the `sms` column in our dataframe to get the **tokens**"
   ]
  },
  {
   "cell_type": "code",
   "execution_count": 25,
   "metadata": {
    "collapsed": true
   },
   "outputs": [],
   "source": [
    "#tokenization on df['sms']\n",
    "df['sms'].apply(process_text);"
   ]
  },
  {
   "cell_type": "markdown",
   "metadata": {},
   "source": [
    "### Vectorization\n",
    "We have created a method to get the lists of tokens. As already mentioned, in order to do Machine Learning using scikit-learn, we need to convert each message into a vector form, so that the Machine Learning model can understand.\n",
    "\n",
    "Recall the **Bag of words (BoW)** technique from the lecture notes!<br>\n",
    "We will do the following steps using BoW model now.\n",
    "\n",
    "1. **Term Frequency**, by counting how many times does a word appeared in each message.\n",
    "\n",
    "2. **Inverse Document Frequency**, which is actually a weigh the counts *(recall lecture notes)*, frequent tokens get lower weight.\n",
    "\n",
    "3. Normalize the vectors to unit length, to abstract from the original text length (L2 norm)\n",
    "\n",
    "Recall from the lecture notes, how the first step will look like after Term Frequency (the values / numbers in the table below):\n",
    "\n",
    "<table border = “1“>\n",
    "<tr>\n",
    "<th></th> <th>SMS_1</th> <th>SMS_2</th> <th>...</th> <th>SMS_n</th> \n",
    "</tr>\n",
    "<tr>\n",
    "<td><b>Word_1</b></td><td>3</td><td>0</td><td>...</td><td>5</td>\n",
    "</tr>\n",
    "<tr>\n",
    "<td><b>Word_2</b></td><td>2</td><td>0</td><td>...</td><td>0</td>\n",
    "</tr>\n",
    "<tr>\n",
    "<td><b>...</b></td> <td>...</td><td>...</td><td>...</td><td>...</td>\n",
    "</tr>\n",
    "<tr>\n",
    "<td><b>Word_n</b></td> <td>0</td><td>0</td><td>...</td><td>0</td>\n",
    "</tr>\n",
    "</table>\n",
    "\n",
    "\n",
    "\n",
    "Each vector have as many dimensions as there are unique words in the SMS corpus.<br>\n",
    "scikit-learn have a built-in tool, [**CountVectorizer**](http://scikit-learn.org/stable/modules/generated/sklearn.feature_extraction.text.CountVectorizer.html) which convert a collection of text documents to a matrix of token counts.\n",
    "\n",
    "Let me introduce another term here:<br>\n",
    "[**Sparse Matrix**](https://en.wikipedia.org/wiki/Sparse_matrix): In numerical analysis and computer science, a sparse matrix or sparse array is a matrix in which most of the elements are zero.<br>\n",
    "\n",
    "*&#9758; Imagine, how many zeros you should expect in you matrix of token counts?<br>\n",
    "Lots!, since, there are so many messages, so many words in the BoW and lots missing in each message! right? You will get a sparse matrix! <br>*\n",
    "\n",
    "Anyhow, let's move on and import `CountVectorizer`!"
   ]
  },
  {
   "cell_type": "code",
   "execution_count": 26,
   "metadata": {
    "collapsed": true
   },
   "outputs": [],
   "source": [
    "#Importing CountVectorizer\n",
    "from sklearn.feature_extraction.text import CountVectorizer"
   ]
  },
  {
   "cell_type": "markdown",
   "metadata": {},
   "source": [
    "&#9758; `CountVectorizer()` and `shit+tab` for the doc string<br>\n",
    "\n",
    "We can pass a range of parameters to the `CountVectorizer`. In this case, we are going to pass `analyzer = process_text`, which is our own created function.<br>\n",
    "In the output, we will get a **BoW** (e.g. we call it 'bow_transformer' here) after processing text according to the analyzer. The text data is large and processing might get some time, depends upon your computer etc. We are creating a very large matrix, all the rows are words and  <br>\n",
    "Let's fit the `CountVectorizer()` to `sms` column of our dataframe."
   ]
  },
  {
   "cell_type": "code",
   "execution_count": 27,
   "metadata": {
    "collapsed": true
   },
   "outputs": [],
   "source": [
    "bow_transformer = CountVectorizer(\n",
    "    analyzer=process_text).fit(df['sms'])"
   ]
  },
  {
   "cell_type": "code",
   "execution_count": null,
   "metadata": {
    "collapsed": true
   },
   "outputs": [],
   "source": []
  },
  {
   "cell_type": "code",
   "execution_count": 28,
   "metadata": {},
   "outputs": [
    {
     "name": "stdout",
     "output_type": "stream",
     "text": [
      "11425\n"
     ]
    }
   ],
   "source": [
    "# How many words we got in the vocabulary?\n",
    "print(len(bow_transformer.vocabulary_))"
   ]
  },
  {
   "cell_type": "code",
   "execution_count": 29,
   "metadata": {},
   "outputs": [
    {
     "data": {
      "text/plain": [
       "10979"
      ]
     },
     "execution_count": 29,
     "metadata": {},
     "output_type": "execute_result"
    }
   ],
   "source": [
    "#type(bow_transformer.vocabulary_)#['way'] #to get the word's id \n",
    "bow_transformer.vocabulary_.get('way') #to get the word's id / index "
   ]
  },
  {
   "cell_type": "markdown",
   "metadata": {},
   "source": [
    "To get better understanding of the working process, I think, its a good idea to transform a single sms to its bow count as a vector first. We need to call `.transform` on the bow_transformer and pass in the selected sms. "
   ]
  },
  {
   "cell_type": "code",
   "execution_count": 30,
   "metadata": {},
   "outputs": [
    {
     "name": "stdout",
     "output_type": "stream",
     "text": [
      "  (0, 1914)\t1\n",
      "  (0, 3964)\t1\n",
      "  (0, 4880)\t1\n",
      "  (0, 6517)\t1\n",
      "  (0, 6907)\t1\n",
      "  (0, 10405)\t1\n",
      "  (0, 10698)\t1\n",
      "  (0, 10979)\t2\n",
      "(1, 11425)\n"
     ]
    }
   ],
   "source": [
    "# grabbing message at index 18 -- 19th message (index starts at 0)\n",
    "sms_18 = df['sms'][18]\n",
    "\n",
    "#Transforming sms_18 to its bow (bow_18)\n",
    "bow_18 = bow_transformer.transform([sms_18])\n",
    "\n",
    "# how the bow_18 look like and what is its shape, let's check \n",
    "print(bow_18)\n",
    "print(bow_18.shape) #(n_rows, n_cols) -- shape is 1 by our entire vocabulary"
   ]
  },
  {
   "cell_type": "code",
   "execution_count": 31,
   "metadata": {
    "collapsed": true
   },
   "outputs": [],
   "source": [
    "#type(bow_18)\n",
    "#print(bow_18.shape)"
   ]
  },
  {
   "cell_type": "markdown",
   "metadata": {},
   "source": [
    "There are 8 unique words in the selected sms (after removing common stop words). Once is appeared twice, let's check the one which appeared twice in the sms! <br>\n",
    "From the `bow_transformer` we can call the method, `get_feature_names()`, and ask for the for the repeated word, its index 10979.  "
   ]
  },
  {
   "cell_type": "code",
   "execution_count": 32,
   "metadata": {},
   "outputs": [
    {
     "name": "stdout",
     "output_type": "stream",
     "text": [
      "way\n"
     ]
    }
   ],
   "source": [
    "print(bow_transformer.get_feature_names()[10979])"
   ]
  },
  {
   "cell_type": "markdown",
   "metadata": {},
   "source": [
    "So, the word \"**way**\" appeared twice. <br><br>\n",
    "Now, Let's move on and use `.transform` with `bow_transformer` and transform the entire DataFrame of sms corpus."
   ]
  },
  {
   "cell_type": "code",
   "execution_count": 33,
   "metadata": {
    "collapsed": true
   },
   "outputs": [],
   "source": [
    "df_bow = bow_transformer.transform(df['sms'])"
   ]
  },
  {
   "cell_type": "markdown",
   "metadata": {},
   "source": [
    "We can get the shape of our df_bow matrix (matrix of token counts) and also check how many of its element are non-zero."
   ]
  },
  {
   "cell_type": "code",
   "execution_count": 34,
   "metadata": {
    "scrolled": true
   },
   "outputs": [
    {
     "name": "stdout",
     "output_type": "stream",
     "text": [
      "Shape of matrix of token counts(sms_bow):  (5572, 11425)\n",
      "No of Non-Zero elements:  50548\n"
     ]
    }
   ],
   "source": [
    "print('Shape of matrix of token counts(sms_bow): ', df_bow.shape) # (n_rows, n_cols)\n",
    "print('No of Non-Zero elements: ', df_bow.nnz)"
   ]
  },
  {
   "cell_type": "markdown",
   "metadata": {},
   "source": [
    "We can compute the sparsity of the matrix using the formula below."
   ]
  },
  {
   "cell_type": "code",
   "execution_count": 35,
   "metadata": {},
   "outputs": [
    {
     "name": "stdout",
     "output_type": "stream",
     "text": [
      "sparsity of df_bow matrix: 0.07940295412668218\n"
     ]
    }
   ],
   "source": [
    "total_no_of_elements = df_bow.shape[0] * df_bow.shape[1]\n",
    "sparsity = (df_bow.nnz / total_no_of_elements)*100\n",
    "print('sparsity of df_bow matrix: {}' .format(sparsity))"
   ]
  },
  {
   "cell_type": "markdown",
   "metadata": {},
   "source": [
    "**Excellent!**<br>\n",
    "* **We are done with term frequency.** How many times a word/term appeared in a sms e.g. way appeared 2 times in sms_18<br>\n",
    "* **Its time to compute for term weighting and normalization using TF-IDF (reference to the lecture notes with practical examples).** <br>\n",
    "\n",
    "scikit-learn provides a tool `TfidfTransformer`, let's do this!"
   ]
  },
  {
   "cell_type": "code",
   "execution_count": 36,
   "metadata": {
    "collapsed": true
   },
   "outputs": [],
   "source": [
    "# Doing import \n",
    "from sklearn.feature_extraction.text import TfidfTransformer"
   ]
  },
  {
   "cell_type": "code",
   "execution_count": 37,
   "metadata": {},
   "outputs": [
    {
     "data": {
      "text/plain": [
       "TfidfTransformer(norm='l2', smooth_idf=True, sublinear_tf=False, use_idf=True)"
      ]
     },
     "execution_count": 37,
     "metadata": {},
     "output_type": "execute_result"
    }
   ],
   "source": [
    "# Let's create an instance for TfidfTransformer and fit to the df_bow\n",
    "tfidf_trans = TfidfTransformer()\n",
    "tfidf_trans.fit(df_bow)"
   ]
  },
  {
   "cell_type": "markdown",
   "metadata": {},
   "source": [
    "As previously done, for better understanding, **lets work with a single message \"sms_18\" and transform \"bow_18\" to tfidf.** "
   ]
  },
  {
   "cell_type": "code",
   "execution_count": 38,
   "metadata": {},
   "outputs": [
    {
     "name": "stdout",
     "output_type": "stream",
     "text": [
      "  (0, 10979)\t0.461428791272\n",
      "  (0, 10698)\t0.14951677306\n",
      "  (0, 10405)\t0.407177880884\n",
      "  (0, 6907)\t0.407177880884\n",
      "  (0, 6517)\t0.257793651128\n",
      "  (0, 4880)\t0.259547084742\n",
      "  (0, 3964)\t0.407177880884\n",
      "  (0, 1914)\t0.365410001719\n"
     ]
    }
   ],
   "source": [
    "tfidf_18 = tfidf_trans.transform(bow_18)\n",
    "#lets print TF-IDF for the message 18\n",
    "print(tfidf_18)"
   ]
  },
  {
   "cell_type": "markdown",
   "metadata": {},
   "source": [
    "Above are the weight values of each of the word in sms_18, the relationship between TF and IDF.<br>\n",
    "We can check IDF for any single random word as well, let's try the one which came twice in sms_18 \"**way**\"!"
   ]
  },
  {
   "cell_type": "code",
   "execution_count": 39,
   "metadata": {},
   "outputs": [
    {
     "name": "stdout",
     "output_type": "stream",
     "text": [
      "IDF for \"Way\" is:  5.0613405961\n"
     ]
    }
   ],
   "source": [
    "print('IDF for \"Way\" is: ',tfidf_trans.idf_[bow_transformer.vocabulary_['way']])"
   ]
  },
  {
   "cell_type": "markdown",
   "metadata": {},
   "source": [
    "Now, we got better idea on weighting, lets transfer our entire BoW \"sms_bow\" to TF-IDF corpus! <br>\n",
    "*Instead of passing a single sms as a BoW, we will pass the entire corpus.* "
   ]
  },
  {
   "cell_type": "code",
   "execution_count": 40,
   "metadata": {
    "collapsed": true
   },
   "outputs": [],
   "source": [
    "df_tfidf = tfidf_trans.transform(df_bow)"
   ]
  },
  {
   "cell_type": "code",
   "execution_count": 41,
   "metadata": {},
   "outputs": [
    {
     "data": {
      "text/plain": [
       "(5572, 11425)"
      ]
     },
     "execution_count": 41,
     "metadata": {},
     "output_type": "execute_result"
    }
   ],
   "source": [
    "# Let's check the shape of sms_tfidf\n",
    "df_tfidf.shape"
   ]
  },
  {
   "cell_type": "markdown",
   "metadata": {},
   "source": [
    "## Machine Learning -- Training and evaluating the model  \n",
    "Now, as we have transformed our data into its vector form, we can train our Machine Learning algorithm.<br>\n",
    "Its a spam/ham detection, a classification problem. We have already learned several models for classification problem and use any one of them. However, [Naive Bayes](https://en.wikipedia.org/wiki/Naive_Bayes_classifier#cite_note-rennie-2) is considered as a good choice in text retrieval community. With appropriate pre-processing, Naive Bayes is competitive in this domain with more advanced methods including support vector machines, [Reference link](http://people.csail.mit.edu/jrennie/papers/icml03-nb.pdf). <br>\n",
    "Let's use the one which is accepted by the experts as a better choice!\n",
    "and import multinomial Naive Bayes model, [MultinomialNB](http://scikit-learn.org/stable/modules/generated/sklearn.naive_bayes.MultinomialNB.html) from sklearn. "
   ]
  },
  {
   "cell_type": "code",
   "execution_count": 42,
   "metadata": {
    "collapsed": true
   },
   "outputs": [],
   "source": [
    "# Let's do the import for Naive Bayes\n",
    "from sklearn.naive_bayes import MultinomialNB"
   ]
  },
  {
   "cell_type": "code",
   "execution_count": 43,
   "metadata": {
    "collapsed": true
   },
   "outputs": [],
   "source": [
    "# creating instance\n",
    "spam_ham_detection = MultinomialNB()"
   ]
  },
  {
   "cell_type": "code",
   "execution_count": 44,
   "metadata": {
    "collapsed": true
   },
   "outputs": [],
   "source": [
    "# train test split\n",
    "from sklearn.model_selection import train_test_split \n",
    "X = df_tfidf\n",
    "y = df['target']"
   ]
  },
  {
   "cell_type": "code",
   "execution_count": 45,
   "metadata": {
    "collapsed": true
   },
   "outputs": [],
   "source": [
    "X_train, X_test, y_train, y_test = train_test_split(\n",
    "    X, y, test_size=0.33, random_state=42)"
   ]
  },
  {
   "cell_type": "code",
   "execution_count": 46,
   "metadata": {},
   "outputs": [
    {
     "data": {
      "text/plain": [
       "MultinomialNB(alpha=1.0, class_prior=None, fit_prior=True)"
      ]
     },
     "execution_count": 46,
     "metadata": {},
     "output_type": "execute_result"
    }
   ],
   "source": [
    "# training on train data\n",
    "spam_ham_detection.fit(X_train, y_train)"
   ]
  },
  {
   "cell_type": "markdown",
   "metadata": {},
   "source": [
    "**Evaluation**<br>\n",
    "This is good, we got the model which is doing predictions for ham/spam messages!<br>\n",
    "Let's try the model on entire dataframe."
   ]
  },
  {
   "cell_type": "code",
   "execution_count": 47,
   "metadata": {
    "collapsed": true
   },
   "outputs": [],
   "source": [
    "# predictions for the test data\n",
    "pred = spam_ham_detection.predict(X_test)"
   ]
  },
  {
   "cell_type": "code",
   "execution_count": 48,
   "metadata": {},
   "outputs": [
    {
     "name": "stdout",
     "output_type": "stream",
     "text": [
      "[[1593    0]\n",
      " [  71  175]]\n",
      "             precision    recall  f1-score   support\n",
      "\n",
      "        ham       0.96      1.00      0.98      1593\n",
      "       spam       1.00      0.71      0.83       246\n",
      "\n",
      "avg / total       0.96      0.96      0.96      1839\n",
      "\n"
     ]
    }
   ],
   "source": [
    "from sklearn.metrics import classification_report, confusion_matrix\n",
    "print (confusion_matrix(y_test, pred))\n",
    "print (classification_report(y_test, pred))"
   ]
  },
  {
   "cell_type": "markdown",
   "metadata": {},
   "source": [
    "In the Machine Learning section we have used vectorized form of our dataframe `df_tfidf` while split. **This is not what we usually do.** We did this here, becasue we want to follow the flow and for learning and training purpose. Let me introduce a great feature from scikit-learn, `Pipeline` capabilities to store a pipeline of workflow.<br>\n",
    "## [Pipeline](http://scikit-learn.org/stable/modules/generated/sklearn.pipeline.Pipeline.html) \n",
    "The purpose of the pipeline is to assemble several steps that can be cross-validated together while setting different parameters. We can set up all the transformation, we did during the text processing, in a single unit using pipeline feature of scikit-learn. Rather than doing all steps one-by-one, we can then call that single unit for our data processing. In this way, we save lots of time and there is no need to re-do all the transformation steps manually. A simple call of pipeline object, with stored steps, on the data will do all the processing in future.  <br>\n",
    "\n",
    "Let's see this will work on our dataset!\n",
    "Let's do the **`train_test_split()`** again using our raw data. <br>\n"
   ]
  },
  {
   "cell_type": "code",
   "execution_count": 49,
   "metadata": {
    "collapsed": true
   },
   "outputs": [],
   "source": [
    "# train_test_split() on the raw data\n",
    "X = df['sms']\n",
    "y = df['target']\n",
    "X_train, X_test, y_train, y_test = train_test_split(\n",
    "    X, y, test_size=0.33, random_state=42)"
   ]
  },
  {
   "cell_type": "markdown",
   "metadata": {},
   "source": [
    "### Creating pipeline, need to do import first"
   ]
  },
  {
   "cell_type": "code",
   "execution_count": 50,
   "metadata": {
    "collapsed": true
   },
   "outputs": [],
   "source": [
    "from sklearn.pipeline import Pipeline"
   ]
  },
  {
   "cell_type": "code",
   "execution_count": 51,
   "metadata": {
    "collapsed": true
   },
   "outputs": [],
   "source": [
    "pipeline = Pipeline([\n",
    "    # Tokenization using scikit's CountVectorizer \n",
    "    ('baw', CountVectorizer(analyzer=process_text)),  \n",
    "    \n",
    "    # Computing TF-IDF  -- weighted scores\n",
    "    ('tfidf', TfidfTransformer()),  \n",
    "    \n",
    "     # Naive Bayes classifier to train on TF-IDF vectors\n",
    "    ('model_nb', MultinomialNB()), \n",
    "])"
   ]
  },
  {
   "cell_type": "markdown",
   "metadata": {},
   "source": [
    "**Traing / Fitting using pipeline**"
   ]
  },
  {
   "cell_type": "code",
   "execution_count": 52,
   "metadata": {},
   "outputs": [
    {
     "data": {
      "text/plain": [
       "Pipeline(steps=[('baw', CountVectorizer(analyzer=<function process_text at 0x112954400>, binary=False,\n",
       "        decode_error='strict', dtype=<class 'numpy.int64'>,\n",
       "        encoding='utf-8', input='content', lowercase=True, max_df=1.0,\n",
       "        max_features=None, min_df=1, ngram_range=(1, 1), preprocessor=None,..._tf=False, use_idf=True)), ('model_nb', MultinomialNB(alpha=1.0, class_prior=None, fit_prior=True))])"
      ]
     },
     "execution_count": 52,
     "metadata": {},
     "output_type": "execute_result"
    }
   ],
   "source": [
    "pipeline.fit(X_train,y_train)"
   ]
  },
  {
   "cell_type": "markdown",
   "metadata": {},
   "source": [
    "**Predictions**"
   ]
  },
  {
   "cell_type": "code",
   "execution_count": 53,
   "metadata": {
    "collapsed": true
   },
   "outputs": [],
   "source": [
    "# predictions for the test data\n",
    "pred = pipeline.predict(X_test)"
   ]
  },
  {
   "cell_type": "markdown",
   "metadata": {},
   "source": [
    "**Evaluation**"
   ]
  },
  {
   "cell_type": "code",
   "execution_count": 54,
   "metadata": {},
   "outputs": [
    {
     "name": "stdout",
     "output_type": "stream",
     "text": [
      "[[1593    0]\n",
      " [  65  181]]\n",
      "             precision    recall  f1-score   support\n",
      "\n",
      "        ham       0.96      1.00      0.98      1593\n",
      "       spam       1.00      0.74      0.85       246\n",
      "\n",
      "avg / total       0.97      0.96      0.96      1839\n",
      "\n"
     ]
    }
   ],
   "source": [
    "print (confusion_matrix(y_test, pred))\n",
    "print (classification_report(y_test, pred))"
   ]
  },
  {
   "cell_type": "markdown",
   "metadata": {
    "collapsed": true
   },
   "source": [
    "# Excellent work!\n",
    "I know this was long. I hope you enjoyed working with the real dataset. NPL is a great skill to add in your profile. It is kind of a sub-field of Machine Learning and need practice along with the domain knowledge. <br>\n",
    "\n",
    "### To Do!\n",
    "Try using other models such as SVM or Random Forests instead of Naive Bayes and compare your results. It is easy, you only need to change the classifier in the pipeline and re-run. <br>\n",
    "Please do this yourself first. I have already tried Logistic Regression and Random Forests for you, in case you need help. You will see how useful this pipeline feature is! <br>\n",
    "In the real world data, you will set-up the transformations and create such pipeline to make things easier and try different options!  "
   ]
  },
  {
   "cell_type": "markdown",
   "metadata": {},
   "source": [
    "### Logistic Regression Classifier"
   ]
  },
  {
   "cell_type": "code",
   "execution_count": 55,
   "metadata": {},
   "outputs": [
    {
     "name": "stdout",
     "output_type": "stream",
     "text": [
      "[[1589    4]\n",
      " [  91  155]]\n",
      "             precision    recall  f1-score   support\n",
      "\n",
      "        ham       0.95      1.00      0.97      1593\n",
      "       spam       0.97      0.63      0.77       246\n",
      "\n",
      "avg / total       0.95      0.95      0.94      1839\n",
      "\n"
     ]
    }
   ],
   "source": [
    "from sklearn.linear_model import LogisticRegression\n",
    "pipeline = Pipeline([\n",
    "    ('baw', CountVectorizer(analyzer=process_text)),  \n",
    "    ('tfidf', TfidfTransformer()),  \n",
    "    \n",
    "     # only change is RandomForestClassifier() \n",
    "    ('model', LogisticRegression()), \n",
    "])\n",
    "# training the model\n",
    "pipeline.fit(X_train,y_train)\n",
    "# doing predictions\n",
    "pred = pipeline.predict(X_test)\n",
    "#Evaluation\n",
    "print (confusion_matrix(y_test, pred))\n",
    "print (classification_report(y_test, pred))"
   ]
  },
  {
   "cell_type": "markdown",
   "metadata": {},
   "source": [
    "### Random Forests Classifier"
   ]
  },
  {
   "cell_type": "code",
   "execution_count": 56,
   "metadata": {},
   "outputs": [
    {
     "name": "stdout",
     "output_type": "stream",
     "text": [
      "[[1592    1]\n",
      " [  64  182]]\n",
      "             precision    recall  f1-score   support\n",
      "\n",
      "        ham       0.96      1.00      0.98      1593\n",
      "       spam       0.99      0.74      0.85       246\n",
      "\n",
      "avg / total       0.97      0.96      0.96      1839\n",
      "\n"
     ]
    }
   ],
   "source": [
    "from sklearn.ensemble import RandomForestClassifier\n",
    "pipeline = Pipeline([\n",
    "    ('baw', CountVectorizer(analyzer=process_text)),  \n",
    "    ('tfidf', TfidfTransformer()),  \n",
    "    \n",
    "     # only change is RandomForestClassifier() \n",
    "    ('model', RandomForestClassifier()), \n",
    "])\n",
    "\n",
    "# training the model\n",
    "pipeline.fit(X_train,y_train)\n",
    "# doing predictions\n",
    "pred = pipeline.predict(X_test)\n",
    "#Evaluation\n",
    "print (confusion_matrix(y_test, pred))\n",
    "print (classification_report(y_test, pred))"
   ]
  },
  {
   "cell_type": "markdown",
   "metadata": {},
   "source": [
    "**Just a brush-up reminder, you may want to give a quick look at:**<br>\n",
    "* **[`precision and recall`](https://en.wikipedia.org/wiki/Precision_and_recall)**\n",
    "* **[`f1-score`](https://en.wikipedia.org/wiki/F1_score)**"
   ]
  }
 ],
 "metadata": {
  "kernelspec": {
   "display_name": "Python 3",
   "language": "python",
   "name": "python3"
  },
  "language_info": {
   "codemirror_mode": {
    "name": "ipython",
    "version": 3
   },
   "file_extension": ".py",
   "mimetype": "text/x-python",
   "name": "python",
   "nbconvert_exporter": "python",
   "pygments_lexer": "ipython3",
   "version": "3.8.3"
  }
 },
 "nbformat": 4,
 "nbformat_minor": 2
}
